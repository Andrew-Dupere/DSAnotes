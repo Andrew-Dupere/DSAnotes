{
 "cells": [
  {
   "cell_type": "markdown",
   "id": "aceb8126",
   "metadata": {},
   "source": [
    "1 Suppose you have a sorted list of 128 names, and you’re searching\n",
    "through it using binary search. What’s the maximum number of\n",
    "steps it would take?"
   ]
  },
  {
   "cell_type": "code",
   "execution_count": 7,
   "id": "7802ff58",
   "metadata": {},
   "outputs": [],
   "source": [
    "#for any list of n binary search will take log2 n steps meaning 2 to the power of what == n"
   ]
  },
  {
   "cell_type": "markdown",
   "id": "f4ed93f5",
   "metadata": {},
   "source": [
    "Suppose you double the size of the list. What’s the maximum\n",
    "number of steps now?"
   ]
  },
  {
   "cell_type": "code",
   "execution_count": 44,
   "id": "f3a39653",
   "metadata": {},
   "outputs": [
    {
     "name": "stdout",
     "output_type": "stream",
     "text": [
      "looking for 23322\n",
      "high is 20 low is 0 mid is 10\n",
      "high is 20 low is 11 mid is 15\n",
      "high is 14 low is 11 mid is 12\n"
     ]
    },
    {
     "data": {
      "text/plain": [
       "12"
      ]
     },
     "execution_count": 44,
     "metadata": {},
     "output_type": "execute_result"
    }
   ],
   "source": [
    "def bino(li,item):\n",
    "    low = 0\n",
    "    high = len(li)-1\n",
    "    \n",
    "    print(f\"looking for {item}\")\n",
    "    \n",
    "    while low <= high:\n",
    "        mid = (low+high) //2\n",
    "        checker = li[mid]\n",
    "        print(f\"high is {high} low is {low} mid is {mid}\")\n",
    "        if checker == item:\n",
    "            return mid\n",
    "        if li.index(checker) > li.index(item):\n",
    "            high = mid -1\n",
    "        else:\n",
    "            low = mid +1\n",
    "            \n",
    "MYLIST = [23,4,235,5,542,23,112,131,5,552,2,2,23322,2,1,122131,23,4,5,667,67]\n",
    "bino(MYLIST, 23322)"
   ]
  },
  {
   "cell_type": "code",
   "execution_count": 48,
   "id": "db46a3ab",
   "metadata": {},
   "outputs": [],
   "source": [
    "def findSmallest(arr):\n",
    "    smallest = arr[0]\n",
    "    smallest_index = 0\n",
    "    for i in range(len(arr)):\n",
    "        if arr[i] < smallest:\n",
    "            smallest = arr[i]\n",
    "            smallest_index = i\n",
    "    return smallest_index"
   ]
  },
  {
   "cell_type": "code",
   "execution_count": 49,
   "id": "718bc2a0",
   "metadata": {},
   "outputs": [
    {
     "data": {
      "text/plain": [
       "[1, 2, 3, 4, 4, 56]"
      ]
     },
     "execution_count": 49,
     "metadata": {},
     "output_type": "execute_result"
    }
   ],
   "source": [
    "def selectionSort(arr):\n",
    "    newArr = []\n",
    "    for i in range(len(arr)):\n",
    "        smallest = findSmallest(arr)\n",
    "        newArr.append(arr.pop(smallest))\n",
    "    return newArr\n",
    "\n",
    "selectionSort([4,3,1,4,56,2])"
   ]
  },
  {
   "cell_type": "code",
   "execution_count": 50,
   "id": "1d62f868",
   "metadata": {},
   "outputs": [],
   "source": [
    "#recurisve factorial function\n",
    "\n",
    "def fact(x):\n",
    "    if x == 1:\n",
    "        return 1\n",
    "    else:\n",
    "        return x * fact(x-1)"
   ]
  },
  {
   "cell_type": "code",
   "execution_count": 54,
   "id": "12724813",
   "metadata": {},
   "outputs": [
    {
     "data": {
      "text/plain": [
       "24"
      ]
     },
     "execution_count": 54,
     "metadata": {},
     "output_type": "execute_result"
    }
   ],
   "source": [
    "fact(4)"
   ]
  },
  {
   "cell_type": "code",
   "execution_count": 4,
   "id": "cdc6134b",
   "metadata": {},
   "outputs": [],
   "source": [
    "import math"
   ]
  },
  {
   "cell_type": "code",
   "execution_count": 17,
   "id": "a5fb12ad",
   "metadata": {},
   "outputs": [
    {
     "name": "stdout",
     "output_type": "stream",
     "text": [
      "2.0\n",
      "2.0\n",
      "0.5\n",
      "1.3862943611198906\n",
      "7.0\n",
      "8.0\n"
     ]
    }
   ],
   "source": [
    "print(math.log2(4)) #log2\n",
    "print(math.log(4,2)) #2 raised to what power is 4\n",
    "print(math.log(2,4)) # 4 raised to what power is 2\n",
    "print(math.log(4)) #log base e of 4\n",
    "print(math.log(128,2))\n",
    "print(math.log(256,2))"
   ]
  },
  {
   "cell_type": "code",
   "execution_count": 18,
   "id": "c2a0b410",
   "metadata": {},
   "outputs": [
    {
     "name": "stdout",
     "output_type": "stream",
     "text": [
      "14\n"
     ]
    }
   ],
   "source": [
    "#find the GCD using euclidean algorithm and recursion \n",
    "\n",
    "a = 2345\n",
    "b = 333\n",
    "r = a % b\n",
    "print(r)"
   ]
  },
  {
   "cell_type": "code",
   "execution_count": 23,
   "id": "5c1790b7",
   "metadata": {},
   "outputs": [
    {
     "data": {
      "text/plain": [
       "11"
      ]
     },
     "execution_count": 23,
     "metadata": {},
     "output_type": "execute_result"
    }
   ],
   "source": [
    "333%14"
   ]
  },
  {
   "cell_type": "code",
   "execution_count": 25,
   "id": "3c07e03d",
   "metadata": {},
   "outputs": [
    {
     "data": {
      "text/plain": [
       "3"
      ]
     },
     "execution_count": 25,
     "metadata": {},
     "output_type": "execute_result"
    }
   ],
   "source": [
    "14 % 11"
   ]
  },
  {
   "cell_type": "code",
   "execution_count": 26,
   "id": "9da2aec2",
   "metadata": {},
   "outputs": [
    {
     "data": {
      "text/plain": [
       "2"
      ]
     },
     "execution_count": 26,
     "metadata": {},
     "output_type": "execute_result"
    }
   ],
   "source": [
    "11 % 3"
   ]
  },
  {
   "cell_type": "code",
   "execution_count": 27,
   "id": "1452739d",
   "metadata": {},
   "outputs": [
    {
     "data": {
      "text/plain": [
       "1"
      ]
     },
     "execution_count": 27,
     "metadata": {},
     "output_type": "execute_result"
    }
   ],
   "source": [
    "3 % 2"
   ]
  },
  {
   "cell_type": "code",
   "execution_count": 28,
   "id": "0c720f1a",
   "metadata": {},
   "outputs": [
    {
     "data": {
      "text/plain": [
       "1"
      ]
     },
     "execution_count": 28,
     "metadata": {},
     "output_type": "execute_result"
    }
   ],
   "source": [
    "math.gcd(2345,333)"
   ]
  },
  {
   "cell_type": "code",
   "execution_count": 29,
   "id": "5eaf8573",
   "metadata": {},
   "outputs": [
    {
     "name": "stdout",
     "output_type": "stream",
     "text": [
      "14\n",
      "11\n",
      "3\n",
      "2\n",
      "1\n"
     ]
    }
   ],
   "source": [
    "a = 2345\n",
    "b = 333\n",
    "r = a % b\n",
    "while r:\n",
    "    a = b\n",
    "    b = r\n",
    "    r = a % b\n",
    "    print(b)"
   ]
  },
  {
   "cell_type": "code",
   "execution_count": 34,
   "id": "86ace47b",
   "metadata": {},
   "outputs": [],
   "source": [
    "#with each loop through the function the recursive inputs become smaller and smaller\n",
    "#until the base case is satisfied \n",
    "\n",
    "def quicksort(arr):\n",
    "    if len(arr) < 2:\n",
    "        return arr\n",
    "    else:\n",
    "        pivot = arr[0]\n",
    "        less = [i for i in arr[1:] if i <= pivot]\n",
    "        greater = [i for i in arr[1:] if i > pivot]\n",
    "        return quicksort(less) + [pivot] + quicksort(greater)"
   ]
  },
  {
   "cell_type": "code",
   "execution_count": 35,
   "id": "1bb3d3ed",
   "metadata": {},
   "outputs": [
    {
     "name": "stdout",
     "output_type": "stream",
     "text": [
      "[1, 2, 3, 3, 3, 4, 5, 7, 7, 34]\n"
     ]
    }
   ],
   "source": [
    "print(quicksort([3,4,5,2,1,3,34,7,7,3]))"
   ]
  },
  {
   "cell_type": "code",
   "execution_count": 36,
   "id": "30d5d0d5",
   "metadata": {},
   "outputs": [],
   "source": [
    "def getinfo(info):\n",
    "    if cache.get(info):\n",
    "        return cache[info]\n",
    "    else:\n",
    "        data = request(info)\n",
    "        cache[info] = data\n",
    "        return data"
   ]
  },
  {
   "cell_type": "code",
   "execution_count": null,
   "id": "d0278677",
   "metadata": {},
   "outputs": [],
   "source": []
  }
 ],
 "metadata": {
  "kernelspec": {
   "display_name": "Python 3 (ipykernel)",
   "language": "python",
   "name": "python3"
  },
  "language_info": {
   "codemirror_mode": {
    "name": "ipython",
    "version": 3
   },
   "file_extension": ".py",
   "mimetype": "text/x-python",
   "name": "python",
   "nbconvert_exporter": "python",
   "pygments_lexer": "ipython3",
   "version": "3.9.13"
  }
 },
 "nbformat": 4,
 "nbformat_minor": 5
}
